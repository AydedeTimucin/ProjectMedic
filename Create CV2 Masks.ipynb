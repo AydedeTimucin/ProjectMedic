{
 "cells": [
  {
   "cell_type": "code",
   "execution_count": 2,
   "id": "981f1ad6",
   "metadata": {},
   "outputs": [
    {
     "data": {
      "text/plain": [
       "<AddedDllDirectory('C:\\\\ProgramData\\\\anaconda3\\\\envs\\\\MedicalAI\\\\Lib\\\\site-packages\\\\openslide-win64-20231011\\\\bin')>"
      ]
     },
     "execution_count": 2,
     "metadata": {},
     "output_type": "execute_result"
    }
   ],
   "source": [
    "import os\n",
    "os.add_dll_directory(r'C:\\ProgramData\\anaconda3\\envs\\MedicalAI\\Lib\\site-packages\\openslide-win64-20231011\\bin') "
   ]
  },
  {
   "cell_type": "code",
   "execution_count": 15,
   "id": "ca69e9fa",
   "metadata": {},
   "outputs": [],
   "source": [
    "import cv2\n",
    "import numpy as np\n",
    "import xml.etree.ElementTree as ET\n",
    "from openslide import OpenSlide\n",
    "import matplotlib.pyplot as plt"
   ]
  },
  {
   "cell_type": "code",
   "execution_count": 13,
   "id": "fb6bd665",
   "metadata": {},
   "outputs": [],
   "source": [
    "xml_file_path = r\"G:\\train_data\\Breast1__he\\slides\\TCGA-A1-A0SM-01Z-00-DX1.xml\"\n",
    "slide_path = r\"G:\\train_data\\Breast1__he\\slides\\TCGA-A1-A0SM-01Z-00-DX1.svs\" \n",
    "mask_name = str(slide_path.split(\"\\\\\")[-1])\n",
    "slide = OpenSlide(slide_path)"
   ]
  },
  {
   "cell_type": "code",
   "execution_count": 25,
   "id": "814cae6a",
   "metadata": {},
   "outputs": [
    {
     "ename": "NameError",
     "evalue": "name 'roi_x' is not defined",
     "output_type": "error",
     "traceback": [
      "\u001b[1;31m---------------------------------------------------------------------------\u001b[0m",
      "\u001b[1;31mNameError\u001b[0m                                 Traceback (most recent call last)",
      "Cell \u001b[1;32mIn[25], line 19\u001b[0m\n\u001b[0;32m     14\u001b[0m img \u001b[38;5;241m=\u001b[39m slide\u001b[38;5;241m.\u001b[39mread_region((\u001b[38;5;241m0\u001b[39m, \u001b[38;5;241m0\u001b[39m), im_read_level, im_read_size)\n\u001b[0;32m     16\u001b[0m \u001b[38;5;66;03m# convert to a numpy array\u001b[39;00m\n\u001b[0;32m     17\u001b[0m \u001b[38;5;66;03m#img_arr = np.array(img)[:,:,:3]\u001b[39;00m\n\u001b[0;32m     18\u001b[0m img \u001b[38;5;241m=\u001b[39m slide\u001b[38;5;241m.\u001b[39mread_region(\n\u001b[1;32m---> 19\u001b[0m     (\u001b[38;5;28mint\u001b[39m(roi_x), \u001b[38;5;28mint\u001b[39m(roi_y)),\n\u001b[0;32m     20\u001b[0m     \u001b[38;5;241m0\u001b[39m,\n\u001b[0;32m     21\u001b[0m     (\u001b[38;5;28mint\u001b[39m(roi_width \u001b[38;5;241m/\u001b[39m downsampling_factor), \u001b[38;5;28mint\u001b[39m(roi_height \u001b[38;5;241m/\u001b[39m downsampling_factor))\n\u001b[0;32m     22\u001b[0m )\n\u001b[0;32m     25\u001b[0m \u001b[38;5;66;03m# resize image to level6\u001b[39;00m\n\u001b[0;32m     26\u001b[0m im_size_level0 \u001b[38;5;241m=\u001b[39m slide\u001b[38;5;241m.\u001b[39mlevel_dimensions[\u001b[38;5;241m0\u001b[39m]\n",
      "\u001b[1;31mNameError\u001b[0m: name 'roi_x' is not defined"
     ]
    }
   ],
   "source": [
    "mask_level = 6 #?\n",
    "downsample_factor = float(2 ** mask_level)\n",
    "\n",
    "# create output directory\n",
    "outdir = r'G:\\train_data\\Breast1__he\\slidestissue_masks_{}'.format(mask_name)\n",
    "if not os.path.exists(outdir):\n",
    "    os.makedirs(outdir)\n",
    "\n",
    "# get the best level to read whole slide at low resolution\n",
    "im_read_level = slide.get_best_level_for_downsample(downsample_factor)\n",
    "im_read_size = slide.level_dimensions[im_read_level]\n",
    "\n",
    "# read the image\n",
    "img = slide.read_region((0, 0), im_read_level, im_read_size)\n",
    "\n",
    "# convert to a numpy array\n",
    "img_arr = np.array(img)[:,:,:3]\n",
    "\n",
    "# resize image to level6\n",
    "im_size_level0 = slide.level_dimensions[0]\n",
    "im_resized_size = (int(im_size_level0[0] / downsample_factor), int(im_size_level0[1] / downsample_factor))\n",
    "img_arr = cv2.resize(img_arr, im_resized_size)\n",
    "\n",
    "# convert image to gray-scale\n",
    "gray_im = cv2.cvtColor(img_arr, cv2.COLOR_RGB2GRAY)\n",
    "\n",
    "# background - foreground seperation using OTSU thresholding\n",
    "OTSU_thr, BW = cv2.threshold(gray_im, 0, 255, cv2.THRESH_BINARY + cv2.THRESH_OTSU)\n",
    "print(OTSU_thr)\n",
    "\n",
    "#apply_dilation\n",
    "kernel = np.ones((3, 3), np.uint8)\n",
    "img_dilation = cv2.bitwise_not(cv2.dilate(cv2.bitwise_not(BW), kernel, iterations=1))\n",
    "\n",
    "# median filtering\n",
    "BW_filtered = cv2.medianBlur(img_dilation, 19)\n",
    "\n",
    "# invert image for further processing\n",
    "des = cv2.bitwise_not(BW_filtered)\n",
    "\n",
    "# hole filling\n",
    "contour, hier = cv2.findContours(des, cv2.RETR_CCOMP, cv2.CHAIN_APPROX_SIMPLE)\n",
    "for cnt in contour:\n",
    "    cv2.drawContours(des, [cnt], 0, 255, -1)\n",
    "mask_img = cv2.bitwise_not(des)\n",
    "\n",
    "# show the image\n",
    "plt.imshow(mask_img, cmap='gray')"
   ]
  },
  {
   "cell_type": "code",
   "execution_count": null,
   "id": "c552b7b7",
   "metadata": {},
   "outputs": [],
   "source": []
  }
 ],
 "metadata": {
  "kernelspec": {
   "display_name": "Python 3 (ipykernel)",
   "language": "python",
   "name": "python3"
  },
  "language_info": {
   "codemirror_mode": {
    "name": "ipython",
    "version": 3
   },
   "file_extension": ".py",
   "mimetype": "text/x-python",
   "name": "python",
   "nbconvert_exporter": "python",
   "pygments_lexer": "ipython3",
   "version": "3.11.5"
  }
 },
 "nbformat": 4,
 "nbformat_minor": 5
}
